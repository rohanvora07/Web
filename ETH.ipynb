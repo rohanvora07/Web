{
  "nbformat": 4,
  "nbformat_minor": 0,
  "metadata": {
    "colab": {
      "name": "ETH.ipynb",
      "provenance": [],
      "collapsed_sections": [],
      "authorship_tag": "ABX9TyNvcmqEmbkYXl1292+e/eaN",
      "include_colab_link": true
    },
    "kernelspec": {
      "name": "python3",
      "display_name": "Python 3"
    },
    "language_info": {
      "name": "python"
    }
  },
  "cells": [
    {
      "cell_type": "markdown",
      "metadata": {
        "id": "view-in-github",
        "colab_type": "text"
      },
      "source": [
        "<a href=\"https://colab.research.google.com/github/rohanvora07/Web/blob/master/ETH.ipynb\" target=\"_parent\"><img src=\"https://colab.research.google.com/assets/colab-badge.svg\" alt=\"Open In Colab\"/></a>"
      ]
    },
    {
      "cell_type": "code",
      "metadata": {
        "colab": {
          "base_uri": "https://localhost:8080/",
          "height": 17
        },
        "id": "HOv7cFptHnbd",
        "outputId": "94dd40e3-ace4-4103-a33d-6fd2f8037d37"
      },
      "source": [
        "from math import sqrt\n",
        "from numpy import concatenate\n",
        "from matplotlib import pyplot\n",
        "import pandas as pd\n",
        "from datetime import datetime\n",
        "from sklearn.preprocessing import MinMaxScaler\n",
        "from sklearn.preprocessing import LabelEncoder\n",
        "from sklearn.metrics import mean_squared_error\n",
        "from keras.models import Sequential\n",
        "from keras.layers import Dense\n",
        "from keras.layers import LSTM\n",
        "import plotly.offline as py\n",
        "import plotly.graph_objs as go\n",
        "import numpy as np\n",
        "import seaborn as sns\n",
        "py.init_notebook_mode(connected=True)\n",
        "%matplotlib inline"
      ],
      "execution_count": null,
      "outputs": [
        {
          "output_type": "display_data",
          "data": {
            "text/html": [
              "        <script type=\"text/javascript\">\n",
              "        window.PlotlyConfig = {MathJaxConfig: 'local'};\n",
              "        if (window.MathJax) {MathJax.Hub.Config({SVG: {font: \"STIX-Web\"}});}\n",
              "        if (typeof require !== 'undefined') {\n",
              "        require.undef(\"plotly\");\n",
              "        requirejs.config({\n",
              "            paths: {\n",
              "                'plotly': ['https://cdn.plot.ly/plotly-latest.min']\n",
              "            }\n",
              "        });\n",
              "        require(['plotly'], function(Plotly) {\n",
              "            window._Plotly = Plotly;\n",
              "        });\n",
              "        }\n",
              "        </script>\n",
              "        "
            ]
          },
          "metadata": {}
        }
      ]
    },
    {
      "cell_type": "code",
      "metadata": {
        "colab": {
          "resources": {
            "http://localhost:8080/nbextensions/google.colab/files.js": {
              "data": "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",
              "ok": true,
              "headers": [
                [
                  "content-type",
                  "application/javascript"
                ]
              ],
              "status": 200,
              "status_text": ""
            }
          },
          "base_uri": "https://localhost:8080/",
          "height": 56
        },
        "id": "awuWCOI4H4nc",
        "outputId": "118e6321-cc53-4a75-ef6b-466ad85abb9d"
      },
      "source": [
        "from google.colab import files\n",
        "uploaded = files.upload()"
      ],
      "execution_count": null,
      "outputs": [
        {
          "output_type": "display_data",
          "data": {
            "text/html": [
              "\n",
              "     <input type=\"file\" id=\"files-94ff93c8-a88d-4a38-9fb7-74d02e7c3391\" name=\"files[]\" multiple disabled\n",
              "        style=\"border:none\" />\n",
              "     <output id=\"result-94ff93c8-a88d-4a38-9fb7-74d02e7c3391\">\n",
              "      Upload widget is only available when the cell has been executed in the\n",
              "      current browser session. Please rerun this cell to enable.\n",
              "      </output>\n",
              "      <script src=\"/nbextensions/google.colab/files.js\"></script> "
            ],
            "text/plain": [
              "<IPython.core.display.HTML object>"
            ]
          },
          "metadata": {}
        },
        {
          "output_type": "stream",
          "name": "stdout",
          "text": [
            "Saving ETH.csv to ETH (1).csv\n"
          ]
        }
      ]
    },
    {
      "cell_type": "code",
      "metadata": {
        "id": "hxjpwlAHJCgL"
      },
      "source": [
        "eth=pd.read_csv(\"ETH.csv\",index_col=\"Date\")"
      ],
      "execution_count": null,
      "outputs": []
    },
    {
      "cell_type": "code",
      "metadata": {
        "colab": {
          "base_uri": "https://localhost:8080/",
          "height": 449
        },
        "id": "QZvCurvvJIUE",
        "outputId": "ad381f1a-76fa-4c7a-fcdb-1bf13ea3c4b6"
      },
      "source": [
        "eth"
      ],
      "execution_count": null,
      "outputs": [
        {
          "output_type": "execute_result",
          "data": {
            "text/html": [
              "<div>\n",
              "<style scoped>\n",
              "    .dataframe tbody tr th:only-of-type {\n",
              "        vertical-align: middle;\n",
              "    }\n",
              "\n",
              "    .dataframe tbody tr th {\n",
              "        vertical-align: top;\n",
              "    }\n",
              "\n",
              "    .dataframe thead th {\n",
              "        text-align: right;\n",
              "    }\n",
              "</style>\n",
              "<table border=\"1\" class=\"dataframe\">\n",
              "  <thead>\n",
              "    <tr style=\"text-align: right;\">\n",
              "      <th></th>\n",
              "      <th>Price</th>\n",
              "      <th>Open</th>\n",
              "      <th>High</th>\n",
              "      <th>Low</th>\n",
              "      <th>Vol.</th>\n",
              "      <th>Change %</th>\n",
              "    </tr>\n",
              "    <tr>\n",
              "      <th>Date</th>\n",
              "      <th></th>\n",
              "      <th></th>\n",
              "      <th></th>\n",
              "      <th></th>\n",
              "      <th></th>\n",
              "      <th></th>\n",
              "    </tr>\n",
              "  </thead>\n",
              "  <tbody>\n",
              "    <tr>\n",
              "      <th>Oct 11, 2021</th>\n",
              "      <td>3,545.06</td>\n",
              "      <td>3,414.93</td>\n",
              "      <td>3,622.53</td>\n",
              "      <td>3,381.43</td>\n",
              "      <td>683.24K</td>\n",
              "      <td>3.81%</td>\n",
              "    </tr>\n",
              "    <tr>\n",
              "      <th>Oct 10, 2021</th>\n",
              "      <td>3,415.03</td>\n",
              "      <td>3,574.52</td>\n",
              "      <td>3,599.18</td>\n",
              "      <td>3,409.22</td>\n",
              "      <td>767.49K</td>\n",
              "      <td>-4.45%</td>\n",
              "    </tr>\n",
              "    <tr>\n",
              "      <th>Oct 09, 2021</th>\n",
              "      <td>3,574.20</td>\n",
              "      <td>3,559.96</td>\n",
              "      <td>3,626.11</td>\n",
              "      <td>3,541.40</td>\n",
              "      <td>464.11K</td>\n",
              "      <td>0.42%</td>\n",
              "    </tr>\n",
              "    <tr>\n",
              "      <th>Oct 08, 2021</th>\n",
              "      <td>3,559.42</td>\n",
              "      <td>3,586.91</td>\n",
              "      <td>3,668.35</td>\n",
              "      <td>3,537.24</td>\n",
              "      <td>681.74K</td>\n",
              "      <td>-0.74%</td>\n",
              "    </tr>\n",
              "    <tr>\n",
              "      <th>Oct 07, 2021</th>\n",
              "      <td>3,586.00</td>\n",
              "      <td>3,575.43</td>\n",
              "      <td>3,650.18</td>\n",
              "      <td>3,473.47</td>\n",
              "      <td>826.29K</td>\n",
              "      <td>0.30%</td>\n",
              "    </tr>\n",
              "    <tr>\n",
              "      <th>...</th>\n",
              "      <td>...</td>\n",
              "      <td>...</td>\n",
              "      <td>...</td>\n",
              "      <td>...</td>\n",
              "      <td>...</td>\n",
              "      <td>...</td>\n",
              "    </tr>\n",
              "    <tr>\n",
              "      <th>Mar 14, 2016</th>\n",
              "      <td>12.50</td>\n",
              "      <td>15.07</td>\n",
              "      <td>15.07</td>\n",
              "      <td>11.40</td>\n",
              "      <td>92.18K</td>\n",
              "      <td>-17.05%</td>\n",
              "    </tr>\n",
              "    <tr>\n",
              "      <th>Mar 13, 2016</th>\n",
              "      <td>15.07</td>\n",
              "      <td>12.92</td>\n",
              "      <td>15.07</td>\n",
              "      <td>12.92</td>\n",
              "      <td>1.30K</td>\n",
              "      <td>16.64%</td>\n",
              "    </tr>\n",
              "    <tr>\n",
              "      <th>Mar 12, 2016</th>\n",
              "      <td>12.92</td>\n",
              "      <td>11.95</td>\n",
              "      <td>13.45</td>\n",
              "      <td>11.95</td>\n",
              "      <td>0.83K</td>\n",
              "      <td>8.12%</td>\n",
              "    </tr>\n",
              "    <tr>\n",
              "      <th>Mar 11, 2016</th>\n",
              "      <td>11.95</td>\n",
              "      <td>11.75</td>\n",
              "      <td>11.95</td>\n",
              "      <td>11.75</td>\n",
              "      <td>0.18K</td>\n",
              "      <td>1.70%</td>\n",
              "    </tr>\n",
              "    <tr>\n",
              "      <th>Mar 10, 2016</th>\n",
              "      <td>11.75</td>\n",
              "      <td>11.20</td>\n",
              "      <td>11.85</td>\n",
              "      <td>11.07</td>\n",
              "      <td>0.00K</td>\n",
              "      <td>4.91%</td>\n",
              "    </tr>\n",
              "  </tbody>\n",
              "</table>\n",
              "<p>2042 rows × 6 columns</p>\n",
              "</div>"
            ],
            "text/plain": [
              "                 Price      Open      High       Low     Vol. Change %\n",
              "Date                                                                  \n",
              "Oct 11, 2021  3,545.06  3,414.93  3,622.53  3,381.43  683.24K    3.81%\n",
              "Oct 10, 2021  3,415.03  3,574.52  3,599.18  3,409.22  767.49K   -4.45%\n",
              "Oct 09, 2021  3,574.20  3,559.96  3,626.11  3,541.40  464.11K    0.42%\n",
              "Oct 08, 2021  3,559.42  3,586.91  3,668.35  3,537.24  681.74K   -0.74%\n",
              "Oct 07, 2021  3,586.00  3,575.43  3,650.18  3,473.47  826.29K    0.30%\n",
              "...                ...       ...       ...       ...      ...      ...\n",
              "Mar 14, 2016     12.50     15.07     15.07     11.40   92.18K  -17.05%\n",
              "Mar 13, 2016     15.07     12.92     15.07     12.92    1.30K   16.64%\n",
              "Mar 12, 2016     12.92     11.95     13.45     11.95    0.83K    8.12%\n",
              "Mar 11, 2016     11.95     11.75     11.95     11.75    0.18K    1.70%\n",
              "Mar 10, 2016     11.75     11.20     11.85     11.07    0.00K    4.91%\n",
              "\n",
              "[2042 rows x 6 columns]"
            ]
          },
          "metadata": {},
          "execution_count": 33
        }
      ]
    },
    {
      "cell_type": "code",
      "metadata": {
        "colab": {
          "base_uri": "https://localhost:8080/"
        },
        "id": "Z_AqLfh2JKRr",
        "outputId": "6acd6a99-df3c-4574-8f1c-8507ef0c250a"
      },
      "source": [
        "eth.info()"
      ],
      "execution_count": null,
      "outputs": [
        {
          "output_type": "stream",
          "name": "stdout",
          "text": [
            "<class 'pandas.core.frame.DataFrame'>\n",
            "Index: 2042 entries, Oct 11, 2021 to Mar 10, 2016\n",
            "Data columns (total 6 columns):\n",
            " #   Column    Non-Null Count  Dtype \n",
            "---  ------    --------------  ----- \n",
            " 0   Price     2042 non-null   object\n",
            " 1   Open      2042 non-null   object\n",
            " 2   High      2042 non-null   object\n",
            " 3   Low       2042 non-null   object\n",
            " 4   Vol.      2042 non-null   object\n",
            " 5   Change %  2042 non-null   object\n",
            "dtypes: object(6)\n",
            "memory usage: 111.7+ KB\n"
          ]
        }
      ]
    },
    {
      "cell_type": "code",
      "metadata": {
        "id": "CxtmuBl3LUwM"
      },
      "source": [
        "eth['Price'] = eth['Price'].replace(',','', regex=True)"
      ],
      "execution_count": null,
      "outputs": []
    },
    {
      "cell_type": "code",
      "metadata": {
        "colab": {
          "base_uri": "https://localhost:8080/",
          "height": 235
        },
        "id": "LmILJqWRNl6r",
        "outputId": "4e5a24a1-7b0f-4a14-f392-95021f94deed"
      },
      "source": [
        "eth.head()"
      ],
      "execution_count": null,
      "outputs": [
        {
          "output_type": "execute_result",
          "data": {
            "text/html": [
              "<div>\n",
              "<style scoped>\n",
              "    .dataframe tbody tr th:only-of-type {\n",
              "        vertical-align: middle;\n",
              "    }\n",
              "\n",
              "    .dataframe tbody tr th {\n",
              "        vertical-align: top;\n",
              "    }\n",
              "\n",
              "    .dataframe thead th {\n",
              "        text-align: right;\n",
              "    }\n",
              "</style>\n",
              "<table border=\"1\" class=\"dataframe\">\n",
              "  <thead>\n",
              "    <tr style=\"text-align: right;\">\n",
              "      <th></th>\n",
              "      <th>Price</th>\n",
              "      <th>Open</th>\n",
              "      <th>High</th>\n",
              "      <th>Low</th>\n",
              "      <th>Vol.</th>\n",
              "      <th>Change %</th>\n",
              "    </tr>\n",
              "    <tr>\n",
              "      <th>Date</th>\n",
              "      <th></th>\n",
              "      <th></th>\n",
              "      <th></th>\n",
              "      <th></th>\n",
              "      <th></th>\n",
              "      <th></th>\n",
              "    </tr>\n",
              "  </thead>\n",
              "  <tbody>\n",
              "    <tr>\n",
              "      <th>Oct 11, 2021</th>\n",
              "      <td>3545.06</td>\n",
              "      <td>3,414.93</td>\n",
              "      <td>3,622.53</td>\n",
              "      <td>3,381.43</td>\n",
              "      <td>683.24K</td>\n",
              "      <td>3.81%</td>\n",
              "    </tr>\n",
              "    <tr>\n",
              "      <th>Oct 10, 2021</th>\n",
              "      <td>3415.03</td>\n",
              "      <td>3,574.52</td>\n",
              "      <td>3,599.18</td>\n",
              "      <td>3,409.22</td>\n",
              "      <td>767.49K</td>\n",
              "      <td>-4.45%</td>\n",
              "    </tr>\n",
              "    <tr>\n",
              "      <th>Oct 09, 2021</th>\n",
              "      <td>3574.20</td>\n",
              "      <td>3,559.96</td>\n",
              "      <td>3,626.11</td>\n",
              "      <td>3,541.40</td>\n",
              "      <td>464.11K</td>\n",
              "      <td>0.42%</td>\n",
              "    </tr>\n",
              "    <tr>\n",
              "      <th>Oct 08, 2021</th>\n",
              "      <td>3559.42</td>\n",
              "      <td>3,586.91</td>\n",
              "      <td>3,668.35</td>\n",
              "      <td>3,537.24</td>\n",
              "      <td>681.74K</td>\n",
              "      <td>-0.74%</td>\n",
              "    </tr>\n",
              "    <tr>\n",
              "      <th>Oct 07, 2021</th>\n",
              "      <td>3586.00</td>\n",
              "      <td>3,575.43</td>\n",
              "      <td>3,650.18</td>\n",
              "      <td>3,473.47</td>\n",
              "      <td>826.29K</td>\n",
              "      <td>0.30%</td>\n",
              "    </tr>\n",
              "  </tbody>\n",
              "</table>\n",
              "</div>"
            ],
            "text/plain": [
              "                Price      Open      High       Low     Vol. Change %\n",
              "Date                                                                 \n",
              "Oct 11, 2021  3545.06  3,414.93  3,622.53  3,381.43  683.24K    3.81%\n",
              "Oct 10, 2021  3415.03  3,574.52  3,599.18  3,409.22  767.49K   -4.45%\n",
              "Oct 09, 2021  3574.20  3,559.96  3,626.11  3,541.40  464.11K    0.42%\n",
              "Oct 08, 2021  3559.42  3,586.91  3,668.35  3,537.24  681.74K   -0.74%\n",
              "Oct 07, 2021  3586.00  3,575.43  3,650.18  3,473.47  826.29K    0.30%"
            ]
          },
          "metadata": {},
          "execution_count": 37
        }
      ]
    },
    {
      "cell_type": "code",
      "metadata": {
        "id": "pVCDMZjzMqHb"
      },
      "source": [
        "eth['Price'] = eth['Price'].astype(float, errors = 'raise')"
      ],
      "execution_count": null,
      "outputs": []
    },
    {
      "cell_type": "code",
      "metadata": {
        "colab": {
          "base_uri": "https://localhost:8080/"
        },
        "id": "OQ41lAsRPyi1",
        "outputId": "21cb33d9-4489-4dca-c5ea-8dfda481ac7d"
      },
      "source": [
        "reversed(eth.index)"
      ],
      "execution_count": null,
      "outputs": [
        {
          "output_type": "execute_result",
          "data": {
            "text/plain": [
              "<reversed at 0x7f3f6f028690>"
            ]
          },
          "metadata": {},
          "execution_count": 41
        }
      ]
    },
    {
      "cell_type": "code",
      "metadata": {
        "colab": {
          "base_uri": "https://localhost:8080/"
        },
        "id": "AJ0Z3RNoP4UU",
        "outputId": "0a46006f-48d9-408c-cf3d-390afd52729f"
      },
      "source": [
        "eth.index[::-1]"
      ],
      "execution_count": null,
      "outputs": [
        {
          "output_type": "execute_result",
          "data": {
            "text/plain": [
              "Index(['Mar 10, 2016', 'Mar 11, 2016', 'Mar 12, 2016', 'Mar 13, 2016',\n",
              "       'Mar 14, 2016', 'Mar 15, 2016', 'Mar 16, 2016', 'Mar 17, 2016',\n",
              "       'Mar 18, 2016', 'Mar 19, 2016',\n",
              "       ...\n",
              "       'Oct 02, 2021', 'Oct 03, 2021', 'Oct 04, 2021', 'Oct 05, 2021',\n",
              "       'Oct 06, 2021', 'Oct 07, 2021', 'Oct 08, 2021', 'Oct 09, 2021',\n",
              "       'Oct 10, 2021', 'Oct 11, 2021'],\n",
              "      dtype='object', name='Date', length=2042)"
            ]
          },
          "metadata": {},
          "execution_count": 43
        }
      ]
    },
    {
      "cell_type": "code",
      "metadata": {
        "colab": {
          "base_uri": "https://localhost:8080/",
          "height": 621
        },
        "id": "V9fPBbeKJaIE",
        "outputId": "396582e6-08c8-4f16-a80e-b7e0df18c2e5"
      },
      "source": [
        "#eth_trace = go.Scatter(x=eth.index[::-1], y=eth['Price'][::-1], name= 'Price')\n",
        "#py.iplot([eth_trace])\n",
        "pyplot.figure(figsize=(20,10))\n",
        "pyplot.plot(eth.index[::-1][:1000],eth['Price'][::-1][:1000])\n",
        "pyplot.xlabel(\"Date\")  \n",
        "pyplot.ylabel(\"Price\") \n",
        "pyplot.title(\"ETH\")  \n",
        "pyplot.show()"
      ],
      "execution_count": null,
      "outputs": [
        {
          "output_type": "display_data",
          "data": {
            "image/png": "[encoded data removed]",
            "text/plain": [
              "<Figure size 1440x720 with 1 Axes>"
            ]
          },
          "metadata": {
            "needs_background": "light"
          }
        }
      ]
    },
    {
      "cell_type": "code",
      "metadata": {
        "id": "aUK2Ms8JVsM7"
      },
      "source": [
        "#eth_trace = go.Scatter(x=eth.index[::-1], y=eth['Price'][::-1], name= 'Price')\n",
        "#py.iplot([eth_trace])\n",
        "from sklearn.preprocessing import MinMaxScaler\n",
        "values = eth['Price'][::-1].values.reshape(-1,1)\n",
        "values = values.astype('float32')\n",
        "scaler = MinMaxScaler(feature_range=(0, 1))\n",
        "scaled = scaler.fit_transform(values)"
      ],
      "execution_count": null,
      "outputs": []
    },
    {
      "cell_type": "code",
      "metadata": {
        "colab": {
          "base_uri": "https://localhost:8080/"
        },
        "id": "yYGTo2gZeqty",
        "outputId": "b03c58e5-7d3c-466b-bc55-991914467b3e"
      },
      "source": [
        "train_size = int(len(scaled) * 0.7)\n",
        "test_size = len(scaled) - train_size\n",
        "train, test = scaled[0:train_size,:], scaled[train_size:len(scaled),:]\n",
        "print(len(train), len(test))\n",
        "print(train)\n",
        "print(scaled)"
      ],
      "execution_count": null,
      "outputs": [
        {
          "output_type": "stream",
          "name": "stdout",
          "text": [
            "1429 613\n",
            "[[0.00121363]\n",
            " [0.00126169]\n",
            " [0.0014948 ]\n",
            " ...\n",
            " [0.04379392]\n",
            " [0.04737473]\n",
            " [0.04961693]]\n",
            "[[0.00121363]\n",
            " [0.00126169]\n",
            " [0.0014948 ]\n",
            " ...\n",
            " [0.8573496 ]\n",
            " [0.8190975 ]\n",
            " [0.8503466 ]]\n"
          ]
        }
      ]
    },
    {
      "cell_type": "code",
      "metadata": {
        "id": "WCq67sfogEba"
      },
      "source": [
        "def create_dataset(dataset, look_back=1):\n",
        "    dataX, dataY = [], []\n",
        "    for i in range(len(dataset) - look_back):\n",
        "        a = dataset[i:(i + look_back), 0]\n",
        "        dataX.append(a)\n",
        "        dataY.append(dataset[i + look_back, 0])\n",
        "    print(len(dataY))\n",
        "    return np.array(dataX), np.array(dataY)"
      ],
      "execution_count": null,
      "outputs": []
    },
    {
      "cell_type": "code",
      "metadata": {
        "colab": {
          "base_uri": "https://localhost:8080/"
        },
        "id": "llHSQq53gIxr",
        "outputId": "3073ae1f-80f0-491d-a132-2dd6bf735c85"
      },
      "source": [
        "look_back = 1\n",
        "trainX, trainY = create_dataset(train, look_back)\n",
        "testX, testY = create_dataset(test, look_back)\n",
        "print(trainX,trainY)"
      ],
      "execution_count": null,
      "outputs": [
        {
          "output_type": "stream",
          "name": "stdout",
          "text": [
            "1428\n",
            "612\n",
            "[[0.00121363]\n",
            " [0.00126169]\n",
            " [0.0014948 ]\n",
            " ...\n",
            " [0.0440006 ]\n",
            " [0.04379392]\n",
            " [0.04737473]] [0.00126169 0.0014948  0.0020115  ... 0.04379392 0.04737473 0.04961693]\n"
          ]
        }
      ]
    },
    {
      "cell_type": "code",
      "metadata": {
        "id": "n4uEaUOOgsXJ"
      },
      "source": [
        "trainX = np.reshape(trainX, (trainX.shape[0], 1, trainX.shape[1]))\n",
        "testX = np.reshape(testX, (testX.shape[0], 1, testX.shape[1]))"
      ],
      "execution_count": null,
      "outputs": []
    },
    {
      "cell_type": "code",
      "metadata": {
        "id": "Qqao_86Og3mB"
      },
      "source": [
        "model = Sequential()\n",
        "model.add(LSTM(100, input_shape=(trainX.shape[1], trainX.shape[2])))\n",
        "model.add(Dense(1))\n",
        "model.compile(loss='mae', optimizer='adam')\n",
        "history = model.fit(trainX, trainY, epochs=300, batch_size=100, validation_data=(testX, testY), verbose=0, shuffle=False)"
      ],
      "execution_count": null,
      "outputs": []
    },
    {
      "cell_type": "code",
      "metadata": {
        "colab": {
          "base_uri": "https://localhost:8080/",
          "height": 592
        },
        "id": "0nvhrzq9hQ7Z",
        "outputId": "52259d3c-8415-4de3-f9d7-e6882d7b883b"
      },
      "source": [
        "yhat = model.predict(testX)\n",
        "pyplot.figure(figsize=(20,10))\n",
        "pyplot.plot(yhat, label='predict')\n",
        "pyplot.plot(testY, label='true')\n",
        "pyplot.legend()\n",
        "pyplot.show()"
      ],
      "execution_count": null,
      "outputs": [
        {
          "output_type": "display_data",
          "data": {
            "image/png": "[encoded data removed]",
            "text/plain": [
              "<Figure size 1440x720 with 1 Axes>"
            ]
          },
          "metadata": {
            "needs_background": "light"
          }
        }
      ]
    },
    {
      "cell_type": "code",
      "metadata": {
        "id": "GUp4ZUW2hTWS"
      },
      "source": [
        "yhat_inverse = scaler.inverse_transform(yhat.reshape(-1, 1))\n",
        "testY_inverse = scaler.inverse_transform(testY.reshape(-1, 1))"
      ],
      "execution_count": null,
      "outputs": []
    },
    {
      "cell_type": "code",
      "metadata": {
        "colab": {
          "base_uri": "https://localhost:8080/"
        },
        "id": "WeKLMiEfhcoy",
        "outputId": "67db5515-18c0-45bf-98a4-66b5e2fd945e"
      },
      "source": [
        "rmse = sqrt(mean_squared_error(testY_inverse, yhat_inverse))\n",
        "print('Test RMSE: %.3f' % rmse)"
      ],
      "execution_count": null,
      "outputs": [
        {
          "output_type": "stream",
          "name": "stdout",
          "text": [
            "Test RMSE: 102.954\n"
          ]
        }
      ]
    },
    {
      "cell_type": "code",
      "metadata": {
        "colab": {
          "base_uri": "https://localhost:8080/",
          "height": 592
        },
        "id": "PiOKkZHshi-x",
        "outputId": "f93d7e6a-2e49-4dc3-8232-92e0e0f7d890"
      },
      "source": [
        "pyplot.figure(figsize=(20,10))\n",
        "pyplot.plot(yhat_inverse, label='predict')\n",
        "pyplot.plot(testY_inverse, label='actual', alpha=0.5)\n",
        "pyplot.legend()\n",
        "pyplot.show()"
      ],
      "execution_count": null,
      "outputs": [
        {
          "output_type": "display_data",
          "data": {
            "image/png": "[encoded data removed]",
            "text/plain": [
              "<Figure size 1440x720 with 1 Axes>"
            ]
          },
          "metadata": {
            "needs_background": "light"
          }
        }
      ]
    },
    {
      "cell_type": "code",
      "metadata": {
        "id": "1AC8PY5giIbi"
      },
      "source": [
        "predictDates = eth.tail(len(testX)).index"
      ],
      "execution_count": null,
      "outputs": []
    },
    {
      "cell_type": "code",
      "metadata": {
        "id": "Pa2W79M-iNQq"
      },
      "source": [
        "testY_reshape = testY_inverse.reshape(len(testY_inverse))\n",
        "yhat_reshape = yhat_inverse.reshape(len(yhat_inverse))"
      ],
      "execution_count": null,
      "outputs": []
    },
    {
      "cell_type": "code",
      "metadata": {
        "id": "onXlJPLDFtBV",
        "colab": {
          "base_uri": "https://localhost:8080/"
        },
        "outputId": "9d675240-626b-41dc-c654-0b46cba21a32"
      },
      "source": [
        "yhat_inverse"
      ],
      "execution_count": null,
      "outputs": [
        {
          "output_type": "execute_result",
          "data": {
            "text/plain": [
              "array([[ 222.63367 ],\n",
              "       [ 222.36101 ],\n",
              "       [ 227.58049 ],\n",
              "       [ 222.08841 ],\n",
              "       [ 235.5378  ],\n",
              "       [ 263.62173 ],\n",
              "       [ 266.7121  ],\n",
              "       [ 282.80203 ],\n",
              "       [ 262.9296  ],\n",
              "       [ 258.17276 ],\n",
              "       [ 265.62024 ],\n",
              "       [ 279.88583 ],\n",
              "       [ 257.32477 ],\n",
              "       [ 255.63866 ],\n",
              "       [ 263.16357 ],\n",
              "       [ 259.78107 ],\n",
              "       [ 272.53296 ],\n",
              "       [ 263.68997 ],\n",
              "       [ 245.47478 ],\n",
              "       [ 223.40292 ],\n",
              "       [ 226.54822 ],\n",
              "       [ 225.96393 ],\n",
              "       [ 216.8016  ],\n",
              "       [ 217.25917 ],\n",
              "       [ 230.77489 ],\n",
              "       [ 223.05238 ],\n",
              "       [ 223.48082 ],\n",
              "       [ 227.44417 ],\n",
              "       [ 243.46768 ],\n",
              "       [ 236.08328 ],\n",
              "       [ 198.93169 ],\n",
              "       [ 202.52248 ],\n",
              "       [ 200.29402 ],\n",
              "       [ 194.47542 ],\n",
              "       [ 110.246155],\n",
              "       [ 135.57637 ],\n",
              "       [ 124.603065],\n",
              "       [ 126.21485 ],\n",
              "       [ 113.27428 ],\n",
              "       [ 118.166435],\n",
              "       [ 119.82644 ],\n",
              "       [ 136.97499 ],\n",
              "       [ 134.92564 ],\n",
              "       [ 134.20694 ],\n",
              "       [ 124.33122 ],\n",
              "       [ 137.54805 ],\n",
              "       [ 140.07353 ],\n",
              "       [ 137.59663 ],\n",
              "       [ 139.84041 ],\n",
              "       [ 133.39111 ],\n",
              "       [ 132.70161 ],\n",
              "       [ 127.07903 ],\n",
              "       [ 133.78929 ],\n",
              "       [ 134.47887 ],\n",
              "       [ 137.1984  ],\n",
              "       [ 142.67694 ],\n",
              "       [ 142.5215  ],\n",
              "       [ 145.30966 ],\n",
              "       [ 143.92043 ],\n",
              "       [ 171.59973 ],\n",
              "       [ 165.4263  ],\n",
              "       [ 173.48601 ],\n",
              "       [ 170.25797 ],\n",
              "       [ 158.768   ],\n",
              "       [ 159.07901 ],\n",
              "       [ 159.61359 ],\n",
              "       [ 157.3296  ],\n",
              "       [ 159.34145 ],\n",
              "       [ 153.94765 ],\n",
              "       [ 172.81508 ],\n",
              "       [ 171.18164 ],\n",
              "       [ 187.53911 ],\n",
              "       [ 180.41945 ],\n",
              "       [ 170.958   ],\n",
              "       [ 171.33719 ],\n",
              "       [ 182.9384  ],\n",
              "       [ 185.60345 ],\n",
              "       [ 187.66556 ],\n",
              "       [ 193.92084 ],\n",
              "       [ 197.17053 ],\n",
              "       [ 195.99321 ],\n",
              "       [ 196.39214 ],\n",
              "       [ 214.73772 ],\n",
              "       [ 205.80215 ],\n",
              "       [ 211.42796 ],\n",
              "       [ 213.33594 ],\n",
              "       [ 209.31578 ],\n",
              "       [ 206.18173 ],\n",
              "       [ 204.96518 ],\n",
              "       [ 198.81493 ],\n",
              "       [ 211.42796 ],\n",
              "       [ 210.8926  ],\n",
              "       [ 209.69536 ],\n",
              "       [ 187.86012 ],\n",
              "       [ 186.08978 ],\n",
              "       [ 189.864   ],\n",
              "       [ 199.3404  ],\n",
              "       [ 202.96039 ],\n",
              "       [ 194.7381  ],\n",
              "       [ 200.24535 ],\n",
              "       [ 206.5613  ],\n",
              "       [ 214.22179 ],\n",
              "       [ 213.8713  ],\n",
              "       [ 209.4715  ],\n",
              "       [ 198.53278 ],\n",
              "       [ 206.90196 ],\n",
              "       [ 206.19144 ],\n",
              "       [ 199.7199  ],\n",
              "       [ 203.76811 ],\n",
              "       [ 200.72217 ],\n",
              "       [ 207.70976 ],\n",
              "       [ 219.39133 ],\n",
              "       [ 219.8587  ],\n",
              "       [ 242.23032 ],\n",
              "       [ 230.71646 ],\n",
              "       [ 246.45885 ],\n",
              "       [ 236.68723 ],\n",
              "       [ 243.0974  ],\n",
              "       [ 241.97699 ],\n",
              "       [ 238.918   ],\n",
              "       [ 240.64233 ],\n",
              "       [ 243.1364  ],\n",
              "       [ 244.71477 ],\n",
              "       [ 242.41544 ],\n",
              "       [ 246.27373 ],\n",
              "       [ 229.64513 ],\n",
              "       [ 236.29756 ],\n",
              "       [ 236.95996 ],\n",
              "       [ 230.92099 ],\n",
              "       [ 229.85938 ],\n",
              "       [ 234.1741  ],\n",
              "       [ 232.73259 ],\n",
              "       [ 230.25868 ],\n",
              "       [ 228.0869  ],\n",
              "       [ 227.84344 ],\n",
              "       [ 227.13254 ],\n",
              "       [ 241.8601  ],\n",
              "       [ 241.81139 ],\n",
              "       [ 233.57994 ],\n",
              "       [ 231.44693 ],\n",
              "       [ 228.63228 ],\n",
              "       [ 220.24814 ],\n",
              "       [ 224.17216 ],\n",
              "       [ 226.87932 ],\n",
              "       [ 224.69801 ],\n",
              "       [ 229.87888 ],\n",
              "       [ 225.46729 ],\n",
              "       [ 224.20139 ],\n",
              "       [ 228.12584 ],\n",
              "       [ 226.98643 ],\n",
              "       [ 240.21365 ],\n",
              "       [ 237.96335 ],\n",
              "       [ 245.50398 ],\n",
              "       [ 240.6618  ],\n",
              "       [ 239.9214  ],\n",
              "       [ 237.91463 ],\n",
              "       [ 241.37299 ],\n",
              "       [ 238.43091 ],\n",
              "       [ 239.18103 ],\n",
              "       [ 237.3496  ],\n",
              "       [ 232.50853 ],\n",
              "       [ 231.63197 ],\n",
              "       [ 234.554   ],\n",
              "       [ 237.72952 ],\n",
              "       [ 234.89491 ],\n",
              "       [ 244.08147 ],\n",
              "       [ 261.37967 ],\n",
              "       [ 273.13748 ],\n",
              "       [ 277.02832 ],\n",
              "       [ 302.38287 ],\n",
              "       [ 308.05325 ],\n",
              "       [ 318.4691  ],\n",
              "       [ 313.74402 ],\n",
              "       [ 314.5835  ],\n",
              "       [ 331.23178 ],\n",
              "       [ 342.6018  ],\n",
              "       [ 382.31638 ],\n",
              "       [ 367.5908  ],\n",
              "       [ 381.0059  ],\n",
              "       [ 384.74185 ],\n",
              "       [ 395.66818 ],\n",
              "       [ 389.8378  ],\n",
              "       [ 374.9138  ],\n",
              "       [ 391.7257  ],\n",
              "       [ 385.3385  ],\n",
              "       [ 390.52258 ],\n",
              "       [ 374.3662  ],\n",
              "       [ 382.29684 ],\n",
              "       [ 418.68527 ],\n",
              "       [ 432.1181  ],\n",
              "       [ 426.38995 ],\n",
              "       [ 427.8097  ],\n",
              "       [ 424.80383 ],\n",
              "       [ 416.5806  ],\n",
              "       [ 402.17456 ],\n",
              "       [ 410.60028 ],\n",
              "       [ 383.14767 ],\n",
              "       [ 390.55194 ],\n",
              "       [ 385.60257 ],\n",
              "       [ 402.42905 ],\n",
              "       [ 378.46335 ],\n",
              "       [ 381.16235 ],\n",
              "       [ 378.37527 ],\n",
              "       [ 390.1117  ],\n",
              "       [ 393.72137 ],\n",
              "       [ 423.1395  ],\n",
              "       [ 428.07404 ],\n",
              "       [ 469.12143 ],\n",
              "       [ 433.14633 ],\n",
              "       [ 377.26062 ],\n",
              "       [ 381.1428  ],\n",
              "       [ 331.27087 ],\n",
              "       [ 349.4215  ],\n",
              "       [ 348.02426 ],\n",
              "       [ 333.7614  ],\n",
              "       [ 347.08627 ],\n",
              "       [ 363.5242  ],\n",
              "       [ 369.19415 ],\n",
              "       [ 383.1379  ],\n",
              "       [ 361.36404 ],\n",
              "       [ 372.1076  ],\n",
              "       [ 359.70236 ],\n",
              "       [ 360.55273 ],\n",
              "       [ 384.10614 ],\n",
              "       [ 379.44128 ],\n",
              "       [ 380.4681  ],\n",
              "       [ 366.6523  ],\n",
              "       [ 337.5122  ],\n",
              "       [ 340.17905 ],\n",
              "       [ 316.66293 ],\n",
              "       [ 345.20056 ],\n",
              "       [ 347.6042  ],\n",
              "       [ 350.16418 ],\n",
              "       [ 353.0762  ],\n",
              "       [ 349.99805 ],\n",
              "       [ 355.64636 ],\n",
              "       [ 355.18707 ],\n",
              "       [ 349.01117 ],\n",
              "       [ 341.79092 ],\n",
              "       [ 341.71277 ],\n",
              "       [ 348.679   ],\n",
              "       [ 349.21634 ],\n",
              "       [ 336.8382  ],\n",
              "       [ 337.68802 ],\n",
              "       [ 346.82248 ],\n",
              "       [ 360.94366 ],\n",
              "       [ 365.71387 ],\n",
              "       [ 369.65363 ],\n",
              "       [ 381.8665  ],\n",
              "       [ 376.53696 ],\n",
              "       [ 374.50308 ],\n",
              "       [ 372.84094 ],\n",
              "       [ 360.8362  ],\n",
              "       [ 364.21823 ],\n",
              "       [ 373.1929  ],\n",
              "       [ 374.54227 ],\n",
              "       [ 363.94455 ],\n",
              "       [ 386.28723 ],\n",
              "       [ 408.6429  ],\n",
              "       [ 403.23138 ],\n",
              "       [ 406.55847 ],\n",
              "       [ 400.85364 ],\n",
              "       [ 389.1335  ],\n",
              "       [ 397.97708 ],\n",
              "       [ 383.2944  ],\n",
              "       [ 381.94476 ],\n",
              "       [ 377.6908  ],\n",
              "       [ 381.6122  ],\n",
              "       [ 391.266   ],\n",
              "       [ 378.78598 ],\n",
              "       [ 383.07925 ],\n",
              "       [ 397.03784 ],\n",
              "       [ 411.16797 ],\n",
              "       [ 449.44473 ],\n",
              "       [ 429.54282 ],\n",
              "       [ 448.42593 ],\n",
              "       [ 438.28775 ],\n",
              "       [ 444.0569  ],\n",
              "       [ 456.9008  ],\n",
              "       [ 456.14627 ],\n",
              "       [ 469.60175 ],\n",
              "       [ 454.32382 ],\n",
              "       [ 442.1077  ],\n",
              "       [ 454.05927 ],\n",
              "       [ 475.14993 ],\n",
              "       [ 471.78754 ],\n",
              "       [ 464.62277 ],\n",
              "       [ 502.6372  ],\n",
              "       [ 543.78986 ],\n",
              "       [ 551.14526 ],\n",
              "       [ 600.1028  ],\n",
              "       [ 595.9832  ],\n",
              "       [ 561.2329  ],\n",
              "       [ 511.80045 ],\n",
              "       [ 510.61322 ],\n",
              "       [ 529.878   ],\n",
              "       [ 566.9113  ],\n",
              "       [ 606.69104 ],\n",
              "       [ 576.94354 ],\n",
              "       [ 589.1213  ],\n",
              "       [ 607.0844  ],\n",
              "       [ 559.50397 ],\n",
              "       [ 587.7746  ],\n",
              "       [ 592.6897  ],\n",
              "       [ 582.28015 ],\n",
              "       [ 546.8733  ],\n",
              "       [ 564.7106  ],\n",
              "       [ 549.8981  ],\n",
              "       [ 536.19025 ],\n",
              "       [ 559.37634 ],\n",
              "       [ 582.28015 ],\n",
              "       [ 577.46454 ],\n",
              "       [ 580.13776 ],\n",
              "       [ 627.79987 ],\n",
              "       [ 633.497   ],\n",
              "       [ 644.00726 ],\n",
              "       [ 648.2594  ],\n",
              "       [ 628.6657  ],\n",
              "       [ 598.7556  ],\n",
              "       [ 627.8883  ],\n",
              "       [ 576.9732  ],\n",
              "       [ 603.17065 ],\n",
              "       [ 617.51965 ],\n",
              "       [ 627.0128  ],\n",
              "       [ 673.4062  ],\n",
              "       [ 719.06836 ],\n",
              "       [ 720.75415 ],\n",
              "       [ 740.5156  ],\n",
              "       [ 724.8754  ],\n",
              "       [ 718.1514  ],\n",
              "       [ 762.9103  ],\n",
              "       [ 961.1204  ],\n",
              "       [1027.9564  ],\n",
              "       [1084.6337  ],\n",
              "       [1192.1882  ],\n",
              "       [1208.6776  ],\n",
              "       [1200.1041  ],\n",
              "       [1259.653   ],\n",
              "       [1240.2057  ],\n",
              "       [1076.6426  ],\n",
              "       [1035.6827  ],\n",
              "       [1113.3699  ],\n",
              "       [1210.4883  ],\n",
              "       [1156.3099  ],\n",
              "       [1212.5768  ],\n",
              "       [1216.9241  ],\n",
              "       [1242.216   ],\n",
              "       [1355.6923  ],\n",
              "       [1361.2041  ],\n",
              "       [1102.3165  ],\n",
              "       [1218.8536  ],\n",
              "       [1217.6797  ],\n",
              "       [1373.9138  ],\n",
              "       [1301.7903  ],\n",
              "       [1349.9814  ],\n",
              "       [1231.8273  ],\n",
              "       [1312.3185  ],\n",
              "       [1362.9684  ],\n",
              "       [1360.6359  ],\n",
              "       [1296.6415  ],\n",
              "       [1357.0874  ],\n",
              "       [1494.7106  ],\n",
              "       [1647.5634  ],\n",
              "       [1577.2522  ],\n",
              "       [1702.4324  ],\n",
              "       [1659.8529  ],\n",
              "       [1596.2296  ],\n",
              "       [1733.4293  ],\n",
              "       [1753.8948  ],\n",
              "       [1725.3342  ],\n",
              "       [1769.6293  ],\n",
              "       [1824.3625  ],\n",
              "       [1798.8002  ],\n",
              "       [1785.0747  ],\n",
              "       [1762.0917  ],\n",
              "       [1764.9645  ],\n",
              "       [1831.3021  ],\n",
              "       [1917.6581  ],\n",
              "       [1939.1316  ],\n",
              "       [1897.3395  ],\n",
              "       [1916.947   ],\n",
              "       [1760.5507  ],\n",
              "       [1561.3755  ],\n",
              "       [1606.9441  ],\n",
              "       [1459.5651  ],\n",
              "       [1428.9231  ],\n",
              "       [1442.382   ],\n",
              "       [1402.3114  ],\n",
              "       [1553.3035  ],\n",
              "       [1472.0105  ],\n",
              "       [1554.3225  ],\n",
              "       [1521.92    ],\n",
              "       [1513.6116  ],\n",
              "       [1632.4154  ],\n",
              "       [1711.3364  ],\n",
              "       [1814.8197  ],\n",
              "       [1852.4833  ],\n",
              "       [1777.4265  ],\n",
              "       [1809.1124  ],\n",
              "       [1750.1617  ],\n",
              "       [1904.6031  ],\n",
              "       [1832.4137  ],\n",
              "       [1775.6648  ],\n",
              "       [1788.148   ],\n",
              "       [1806.6696  ],\n",
              "       [1759.3492  ],\n",
              "       [1792.9432  ],\n",
              "       [1787.8976  ],\n",
              "       [1766.9962  ],\n",
              "       [1665.5933  ],\n",
              "       [1651.123   ],\n",
              "       [1565.6418  ],\n",
              "       [1569.7982  ],\n",
              "       [1681.8258  ],\n",
              "       [1696.2402  ],\n",
              "       [1670.0237  ],\n",
              "       [1800.0015  ],\n",
              "       [1824.3523  ],\n",
              "       [1901.4572  ],\n",
              "       [1951.5278  ],\n",
              "       [2118.5444  ],\n",
              "       [1992.2499  ],\n",
              "       [2059.7703  ],\n",
              "       [2090.324   ],\n",
              "       [2095.4585  ],\n",
              "       [1945.0138  ],\n",
              "       [2063.761   ],\n",
              "       [2050.7363  ],\n",
              "       [2117.782   ],\n",
              "       [2135.4636  ],\n",
              "       [2121.8137  ],\n",
              "       [2284.442   ],\n",
              "       [2416.5156  ],\n",
              "       [2499.455   ],\n",
              "       [2408.1072  ],\n",
              "       [2302.9036  ],\n",
              "       [2221.4783  ],\n",
              "       [2144.701   ],\n",
              "       [2316.7595  ],\n",
              "       [2345.526   ],\n",
              "       [2385.9521  ],\n",
              "       [2352.0479  ],\n",
              "       [2200.171   ],\n",
              "       [2301.047   ],\n",
              "       [2518.4175  ],\n",
              "       [2650.9595  ],\n",
              "       [2732.4963  ],\n",
              "       [2743.346   ],\n",
              "       [2758.8074  ],\n",
              "       [2931.0732  ],\n",
              "       [2936.7534  ],\n",
              "       [3415.7078  ],\n",
              "       [3273.2954  ],\n",
              "       [3508.8108  ],\n",
              "       [3475.685   ],\n",
              "       [3467.4116  ],\n",
              "       [3889.1882  ],\n",
              "       [3905.7124  ],\n",
              "       [3931.1328  ],\n",
              "       [4148.4043  ],\n",
              "       [3796.2004  ],\n",
              "       [3704.6965  ],\n",
              "       [4057.2068  ],\n",
              "       [3627.1753  ],\n",
              "       [3567.9316  ],\n",
              "       [3266.2717  ],\n",
              "       [3364.0032  ],\n",
              "       [2420.6594  ],\n",
              "       [2763.59    ],\n",
              "       [2418.071   ],\n",
              "       [2276.085   ],\n",
              "       [2085.2395  ],\n",
              "       [2632.4531  ],\n",
              "       [2690.9285  ],\n",
              "       [2870.9563  ],\n",
              "       [2721.807   ],\n",
              "       [2399.187   ],\n",
              "       [2260.504   ],\n",
              "       [2370.9016  ],\n",
              "       [2694.3186  ],\n",
              "       [2619.292   ],\n",
              "       [2691.9417  ],\n",
              "       [2839.5771  ],\n",
              "       [2672.2837  ],\n",
              "       [2614.5876  ],\n",
              "       [2699.523   ],\n",
              "       [2578.1223  ],\n",
              "       [2495.8728  ],\n",
              "       [2591.7656  ],\n",
              "       [2455.0554  ],\n",
              "       [2336.1345  ],\n",
              "       [2353.212   ],\n",
              "       [2493.4849  ],\n",
              "       [2566.936   ],\n",
              "       [2529.163   ],\n",
              "       [2352.0178  ],\n",
              "       [2356.3726  ],\n",
              "       [2213.8135  ],\n",
              "       [2150.9998  ],\n",
              "       [2228.1895  ],\n",
              "       [1874.5994  ],\n",
              "       [1860.0553  ],\n",
              "       [1951.9591  ],\n",
              "       [1972.7548  ],\n",
              "       [1793.874   ],\n",
              "       [1813.9487  ],\n",
              "       [1963.474   ],\n",
              "       [2066.94    ],\n",
              "       [2142.7751  ],\n",
              "       [2258.2668  ],\n",
              "       [2093.0317  ],\n",
              "       [2138.8335  ],\n",
              "       [2208.968   ],\n",
              "       [2307.8096  ],\n",
              "       [2180.3389  ],\n",
              "       [2307.3074  ],\n",
              "       [2301.138   ],\n",
              "       [2104.1729  ],\n",
              "       [2129.9175  ],\n",
              "       [2095.047   ],\n",
              "       [2123.3582  ],\n",
              "       [2018.8146  ],\n",
              "       [1924.2312  ],\n",
              "       [1978.2676  ],\n",
              "       [1900.6755  ],\n",
              "       [1861.598   ],\n",
              "       [1881.4109  ],\n",
              "       [1875.8414  ],\n",
              "       [1801.3829  ],\n",
              "       [1769.3485  ],\n",
              "       [1978.1171  ],\n",
              "       [2008.2784  ],\n",
              "       [2107.5728  ],\n",
              "       [2135.895   ],\n",
              "       [2173.9495  ],\n",
              "       [2213.8135  ],\n",
              "       [2284.7332  ],\n",
              "       [2283.6199  ],\n",
              "       [2365.7139  ],\n",
              "       [2446.0051  ],\n",
              "       [2517.4841  ],\n",
              "       [2541.604   ],\n",
              "       [2593.5815  ],\n",
              "       [2491.8591  ],\n",
              "       [2711.1863  ],\n",
              "       [2813.3755  ],\n",
              "       [2875.7363  ],\n",
              "       [3144.6335  ],\n",
              "       [2998.5881  ],\n",
              "       [3149.5647  ],\n",
              "       [3127.339   ],\n",
              "       [3150.2942  ],\n",
              "       [3030.167   ],\n",
              "       [3308.9731  ],\n",
              "       [3251.2942  ],\n",
              "       [3295.431   ],\n",
              "       [3134.2808  ],\n",
              "       [3001.1018  ],\n",
              "       [3003.4338  ],\n",
              "       [3171.4558  ],\n",
              "       [3270.7976  ],\n",
              "       [3210.588   ],\n",
              "       [3225.3213  ],\n",
              "       [3306.0376  ],\n",
              "       [3159.8955  ],\n",
              "       [3214.7756  ],\n",
              "       [3080.1428  ],\n",
              "       [3260.1772  ],\n",
              "       [3230.5183  ],\n",
              "       [3208.7883  ],\n",
              "       [3212.297   ],\n",
              "       [3417.074   ],\n",
              "       [3816.996   ],\n",
              "       [3770.8127  ],\n",
              "       [3919.6372  ],\n",
              "       [3868.7942  ],\n",
              "       [3933.826   ],\n",
              "       [3910.6448  ],\n",
              "       [3409.4734  ],\n",
              "       [3481.2468  ],\n",
              "       [3409.8623  ],\n",
              "       [3193.9028  ],\n",
              "       [3253.9329  ],\n",
              "       [3394.6685  ],\n",
              "       [3271.1072  ],\n",
              "       [3415.209   ],\n",
              "       [3597.5742  ],\n",
              "       [3555.2961  ],\n",
              "       [3385.0596  ],\n",
              "       [3422.2903  ],\n",
              "       [3315.654   ],\n",
              "       [2962.5156  ],\n",
              "       [2747.517   ],\n",
              "       [3064.3704  ],\n",
              "       [3139.552   ],\n",
              "       [2914.954   ],\n",
              "       [2908.9224  ],\n",
              "       [3050.0872  ],\n",
              "       [2912.6196  ],\n",
              "       [2793.3967  ],\n",
              "       [2837.7231  ],\n",
              "       [2987.0925  ],\n",
              "       [3295.6904  ],\n",
              "       [3375.4001  ],\n",
              "       [3403.7068  ],\n",
              "       [3369.3428  ],\n",
              "       [3503.3303  ],\n",
              "       [3561.2507  ],\n",
              "       [3571.7944  ],\n",
              "       [3545.328   ],\n",
              "       [3560.0457  ],\n",
              "       [3401.4026  ]], dtype=float32)"
            ]
          },
          "metadata": {},
          "execution_count": 137
        }
      ]
    },
    {
      "cell_type": "code",
      "metadata": {
        "id": "5jgsX21lFuYj"
      },
      "source": [
        ""
      ],
      "execution_count": null,
      "outputs": []
    }
  ]
}